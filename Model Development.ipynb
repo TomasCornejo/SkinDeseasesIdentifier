{
 "cells": [
  {
   "cell_type": "code",
   "execution_count": 1,
   "metadata": {},
   "outputs": [],
   "source": [
    "import pandas as pd\n",
    "import numpy as np\n",
    "from tqdm import tqdm\n",
    "from glob import glob\n",
    "\n",
    "from sklearn.model_selection import train_test_split\n",
    "from keras.preprocessing import image"
   ]
  },
  {
   "cell_type": "code",
   "execution_count": 2,
   "metadata": {},
   "outputs": [],
   "source": [
    "from tensorflow.keras import layers\n",
    "from tensorflow import keras"
   ]
  },
  {
   "cell_type": "code",
   "execution_count": 3,
   "metadata": {},
   "outputs": [],
   "source": [
    "target_size_W = 225\n",
    "target_size_H = 300"
   ]
  },
  {
   "cell_type": "code",
   "execution_count": 25,
   "metadata": {},
   "outputs": [],
   "source": [
    "import tensorflow as tf"
   ]
  },
  {
   "cell_type": "code",
   "execution_count": null,
   "metadata": {},
   "outputs": [],
   "source": []
  },
  {
   "cell_type": "code",
   "execution_count": null,
   "metadata": {},
   "outputs": [],
   "source": []
  },
  {
   "cell_type": "code",
   "execution_count": 4,
   "metadata": {},
   "outputs": [],
   "source": [
    "df = pd.read_csv('HAM10000_metadata.csv')"
   ]
  },
  {
   "cell_type": "code",
   "execution_count": 5,
   "metadata": {},
   "outputs": [],
   "source": [
    "labels_df = df[['image_id','dx']]"
   ]
  },
  {
   "cell_type": "code",
   "execution_count": 6,
   "metadata": {},
   "outputs": [],
   "source": [
    "def get_label(id_img):\n",
    "    label = labels_df[labels_df['image_id'] == id_img]['dx'].iloc[0]\n",
    "    return label"
   ]
  },
  {
   "cell_type": "code",
   "execution_count": 7,
   "metadata": {},
   "outputs": [
    {
     "data": {
      "text/plain": [
       "\"\\nActinic keratoses and intraepithelial carcinoma / Bowen's disease (akiec), basal cell carcinoma (bcc),\\nbenign keratosis-like lesions (solar lentigines / seborrheic keratoses and lichen-planus like keratoses, bkl),\\ndermatofibroma (df),\\nmelanoma (mel), \\nmelanocytic nevi (nv) ,\\nvascular lesions (angiomas, angiokeratomas, pyogenic granulomas and hemorrhage, vasc)\\n\""
      ]
     },
     "execution_count": 7,
     "metadata": {},
     "output_type": "execute_result"
    }
   ],
   "source": [
    "'''\n",
    "Actinic keratoses and intraepithelial carcinoma / Bowen's disease (akiec), basal cell carcinoma (bcc),\n",
    "benign keratosis-like lesions (solar lentigines / seborrheic keratoses and lichen-planus like keratoses, bkl),\n",
    "dermatofibroma (df),\n",
    "melanoma (mel), \n",
    "melanocytic nevi (nv) ,\n",
    "vascular lesions (angiomas, angiokeratomas, pyogenic granulomas and hemorrhage, vasc)\n",
    "'''"
   ]
  },
  {
   "cell_type": "code",
   "execution_count": 8,
   "metadata": {},
   "outputs": [
    {
     "data": {
      "text/plain": [
       "'HAM10000_images_part_1\\\\ISIC_0024306.jpg'"
      ]
     },
     "execution_count": 8,
     "metadata": {},
     "output_type": "execute_result"
    }
   ],
   "source": [
    "glob('HAM10000_images_part_1\\*')[0]"
   ]
  },
  {
   "cell_type": "code",
   "execution_count": 9,
   "metadata": {},
   "outputs": [],
   "source": [
    "images = []\n",
    "labels = []\n",
    "errors = []"
   ]
  },
  {
   "cell_type": "code",
   "execution_count": 10,
   "metadata": {},
   "outputs": [],
   "source": [
    "def process_image(url, normalize = 1):\n",
    "    id_img = url.split('\\\\')[1].split('.')[0]\n",
    "    try:\n",
    "        label = get_label(id_img)\n",
    "    except:\n",
    "        errors.append(id_img)\n",
    "        return (0)\n",
    "    img = image.load_img(url, target_size=(target_size_W,target_size_H,3))\n",
    "    img = image.img_to_array(img)\n",
    "    if normalize == 1:\n",
    "        img = img/255\n",
    "    images.append(img)\n",
    "    labels.append(label)\n",
    "    return 1"
   ]
  },
  {
   "cell_type": "code",
   "execution_count": 11,
   "metadata": {},
   "outputs": [
    {
     "name": "stderr",
     "output_type": "stream",
     "text": [
      "100%|██████████████████████████████████████████████████████████████████████████████| 5000/5000 [00:52<00:00, 95.90it/s]\n"
     ]
    }
   ],
   "source": [
    "for file in tqdm(glob('HAM10000_images_part_1\\*')):\n",
    "    process_image(file)"
   ]
  },
  {
   "cell_type": "code",
   "execution_count": 12,
   "metadata": {},
   "outputs": [
    {
     "name": "stderr",
     "output_type": "stream",
     "text": [
      "100%|██████████████████████████████████████████████████████████████████████████████| 5015/5015 [01:28<00:00, 56.70it/s]\n"
     ]
    }
   ],
   "source": [
    "for file in tqdm(glob('HAM10000_images_part_2\\*')):\n",
    "    process_image(file)"
   ]
  },
  {
   "cell_type": "code",
   "execution_count": 13,
   "metadata": {},
   "outputs": [],
   "source": [
    "X = np.array(images)"
   ]
  },
  {
   "cell_type": "code",
   "execution_count": 14,
   "metadata": {},
   "outputs": [],
   "source": [
    "label_df = pd.DataFrame(labels, columns=['tipo'])"
   ]
  },
  {
   "cell_type": "code",
   "execution_count": 15,
   "metadata": {},
   "outputs": [],
   "source": [
    "y = np.array(pd.get_dummies(label_df, columns=['tipo'],prefix=''))"
   ]
  },
  {
   "cell_type": "code",
   "execution_count": 16,
   "metadata": {},
   "outputs": [],
   "source": [
    "X_train, X_test, y_train, y_test = train_test_split(X, y, random_state=42, test_size=0.1)"
   ]
  },
  {
   "cell_type": "code",
   "execution_count": 17,
   "metadata": {},
   "outputs": [],
   "source": [
    "#X.shape"
   ]
  },
  {
   "cell_type": "code",
   "execution_count": 18,
   "metadata": {},
   "outputs": [],
   "source": [
    "#y.shape"
   ]
  },
  {
   "cell_type": "markdown",
   "metadata": {},
   "source": [
    "# Model"
   ]
  },
  {
   "cell_type": "code",
   "execution_count": 19,
   "metadata": {},
   "outputs": [],
   "source": [
    "model = keras.Sequential([\n",
    "    layers.Conv2D(filters=16, kernel_size=(5, 5), activation=\"relu\", input_shape=(target_size_W,target_size_H,3)),\n",
    "    layers.Dropout(0.25),\n",
    "    layers.Conv2D(filters=32, kernel_size=(5, 5), activation='relu'),\n",
    "    layers.MaxPooling2D(pool_size=(2, 2)),\n",
    "    layers.Dropout(0.25),\n",
    "    layers.Conv2D(filters=64, kernel_size=(5, 5), activation=\"relu\"),\n",
    "    layers.MaxPooling2D(pool_size=(2, 2)),\n",
    "    layers.Dropout(0.25),\n",
    "    layers.Conv2D(filters=64, kernel_size=(5, 5), activation=\"relu\"),\n",
    "    layers.MaxPooling2D(pool_size=(2, 2)),\n",
    "    layers.Dropout(0.25),\n",
    "    layers.Flatten(),\n",
    "    layers.Dense(128,activation=\"relu\"),\n",
    "    layers.Dropout(0.5),\n",
    "    layers.Dense(64,activation=\"relu\"),\n",
    "    layers.Dropout(0.5),\n",
    "    layers.Dense(7,activation=\"sigmoid\")\n",
    "])\n"
   ]
  },
  {
   "cell_type": "code",
   "execution_count": 20,
   "metadata": {},
   "outputs": [
    {
     "name": "stdout",
     "output_type": "stream",
     "text": [
      "Model: \"sequential\"\n",
      "_________________________________________________________________\n",
      "Layer (type)                 Output Shape              Param #   \n",
      "=================================================================\n",
      "conv2d (Conv2D)              (None, 221, 296, 16)      1216      \n",
      "_________________________________________________________________\n",
      "dropout (Dropout)            (None, 221, 296, 16)      0         \n",
      "_________________________________________________________________\n",
      "conv2d_1 (Conv2D)            (None, 217, 292, 32)      12832     \n",
      "_________________________________________________________________\n",
      "max_pooling2d (MaxPooling2D) (None, 108, 146, 32)      0         \n",
      "_________________________________________________________________\n",
      "dropout_1 (Dropout)          (None, 108, 146, 32)      0         \n",
      "_________________________________________________________________\n",
      "conv2d_2 (Conv2D)            (None, 104, 142, 64)      51264     \n",
      "_________________________________________________________________\n",
      "max_pooling2d_1 (MaxPooling2 (None, 52, 71, 64)        0         \n",
      "_________________________________________________________________\n",
      "dropout_2 (Dropout)          (None, 52, 71, 64)        0         \n",
      "_________________________________________________________________\n",
      "conv2d_3 (Conv2D)            (None, 48, 67, 64)        102464    \n",
      "_________________________________________________________________\n",
      "max_pooling2d_2 (MaxPooling2 (None, 24, 33, 64)        0         \n",
      "_________________________________________________________________\n",
      "dropout_3 (Dropout)          (None, 24, 33, 64)        0         \n",
      "_________________________________________________________________\n",
      "flatten (Flatten)            (None, 50688)             0         \n",
      "_________________________________________________________________\n",
      "dense (Dense)                (None, 128)               6488192   \n",
      "_________________________________________________________________\n",
      "dropout_4 (Dropout)          (None, 128)               0         \n",
      "_________________________________________________________________\n",
      "dense_1 (Dense)              (None, 64)                8256      \n",
      "_________________________________________________________________\n",
      "dropout_5 (Dropout)          (None, 64)                0         \n",
      "_________________________________________________________________\n",
      "dense_2 (Dense)              (None, 7)                 455       \n",
      "=================================================================\n",
      "Total params: 6,664,679\n",
      "Trainable params: 6,664,679\n",
      "Non-trainable params: 0\n",
      "_________________________________________________________________\n"
     ]
    }
   ],
   "source": [
    "model.summary()"
   ]
  },
  {
   "cell_type": "code",
   "execution_count": 21,
   "metadata": {},
   "outputs": [],
   "source": [
    "model.compile(optimizer='adam', loss='binary_crossentropy', metrics=['accuracy'])"
   ]
  },
  {
   "cell_type": "code",
   "execution_count": 22,
   "metadata": {},
   "outputs": [
    {
     "name": "stdout",
     "output_type": "stream",
     "text": [
      "Epoch 1/10\n",
      "141/141 [==============================] - 37s 264ms/step - loss: 0.4498 - accuracy: 0.4918 - val_loss: 0.3110 - val_accuracy: 0.6667\n",
      "Epoch 2/10\n",
      "141/141 [==============================] - 25s 176ms/step - loss: 0.2719 - accuracy: 0.6531 - val_loss: 0.2313 - val_accuracy: 0.6667\n",
      "Epoch 3/10\n",
      "141/141 [==============================] - 25s 176ms/step - loss: 0.2483 - accuracy: 0.6760 - val_loss: 0.2363 - val_accuracy: 0.6667\n",
      "Epoch 4/10\n",
      "141/141 [==============================] - 25s 176ms/step - loss: 0.2367 - accuracy: 0.6713 - val_loss: 0.2286 - val_accuracy: 0.6667\n",
      "Epoch 5/10\n",
      "141/141 [==============================] - 25s 177ms/step - loss: 0.2317 - accuracy: 0.6722 - val_loss: 0.2201 - val_accuracy: 0.6667\n",
      "Epoch 6/10\n",
      "141/141 [==============================] - 25s 181ms/step - loss: 0.2312 - accuracy: 0.6732 - val_loss: 0.2277 - val_accuracy: 0.6667\n",
      "Epoch 7/10\n",
      "141/141 [==============================] - 25s 176ms/step - loss: 0.2263 - accuracy: 0.6688 - val_loss: 0.2123 - val_accuracy: 0.6667\n",
      "Epoch 8/10\n",
      "141/141 [==============================] - 25s 177ms/step - loss: 0.2206 - accuracy: 0.6762 - val_loss: 0.2187 - val_accuracy: 0.6667\n",
      "Epoch 9/10\n",
      "141/141 [==============================] - 25s 176ms/step - loss: 0.2222 - accuracy: 0.6709 - val_loss: 0.2108 - val_accuracy: 0.6647\n",
      "Epoch 10/10\n",
      "141/141 [==============================] - 25s 178ms/step - loss: 0.2217 - accuracy: 0.6633 - val_loss: 0.2093 - val_accuracy: 0.6707\n"
     ]
    },
    {
     "data": {
      "text/plain": [
       "<tensorflow.python.keras.callbacks.History at 0x178c546c588>"
      ]
     },
     "execution_count": 22,
     "metadata": {},
     "output_type": "execute_result"
    }
   ],
   "source": [
    "model.fit(X_train, y_train, epochs=10, validation_data=(X_test, y_test), batch_size=64)"
   ]
  },
  {
   "cell_type": "code",
   "execution_count": null,
   "metadata": {},
   "outputs": [],
   "source": []
  },
  {
   "cell_type": "markdown",
   "metadata": {},
   "source": [
    "# Saving Model"
   ]
  },
  {
   "cell_type": "code",
   "execution_count": 23,
   "metadata": {},
   "outputs": [
    {
     "name": "stdout",
     "output_type": "stream",
     "text": [
      "WARNING:tensorflow:From C:\\Users\\tcorn\\AppData\\Roaming\\Python\\Python37\\site-packages\\tensorflow\\python\\training\\tracking\\tracking.py:111: Model.state_updates (from tensorflow.python.keras.engine.training) is deprecated and will be removed in a future version.\n",
      "Instructions for updating:\n",
      "This property should not be used in TensorFlow 2.0, as updates are applied automatically.\n",
      "WARNING:tensorflow:From C:\\Users\\tcorn\\AppData\\Roaming\\Python\\Python37\\site-packages\\tensorflow\\python\\training\\tracking\\tracking.py:111: Layer.updates (from tensorflow.python.keras.engine.base_layer) is deprecated and will be removed in a future version.\n",
      "Instructions for updating:\n",
      "This property should not be used in TensorFlow 2.0, as updates are applied automatically.\n",
      "INFO:tensorflow:Assets written to: models/my_model\\assets\n"
     ]
    }
   ],
   "source": [
    "model.save('models/my_model') "
   ]
  },
  {
   "cell_type": "code",
   "execution_count": null,
   "metadata": {},
   "outputs": [],
   "source": []
  },
  {
   "cell_type": "markdown",
   "metadata": {},
   "source": [
    "# Saving Tflite"
   ]
  },
  {
   "cell_type": "code",
   "execution_count": 26,
   "metadata": {},
   "outputs": [
    {
     "data": {
      "text/plain": [
       "26662320"
      ]
     },
     "execution_count": 26,
     "metadata": {},
     "output_type": "execute_result"
    }
   ],
   "source": [
    "converter = tf.lite.TFLiteConverter.from_saved_model('models/my_model')\n",
    "tflite_model = converter.convert()\n",
    "open(\"models/premodel.tflite\", \"wb\").write(tflite_model)\n"
   ]
  },
  {
   "cell_type": "code",
   "execution_count": null,
   "metadata": {},
   "outputs": [],
   "source": []
  }
 ],
 "metadata": {
  "kernelspec": {
   "display_name": "Python 3",
   "language": "python",
   "name": "python3"
  },
  "language_info": {
   "codemirror_mode": {
    "name": "ipython",
    "version": 3
   },
   "file_extension": ".py",
   "mimetype": "text/x-python",
   "name": "python",
   "nbconvert_exporter": "python",
   "pygments_lexer": "ipython3",
   "version": "3.7.6"
  }
 },
 "nbformat": 4,
 "nbformat_minor": 4
}
